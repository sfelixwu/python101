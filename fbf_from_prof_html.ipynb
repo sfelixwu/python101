{
 "cells": [
  {
   "cell_type": "code",
   "execution_count": 60,
   "metadata": {},
   "outputs": [],
   "source": [
    "import os\n",
    "import datetime"
   ]
  },
  {
   "cell_type": "code",
   "execution_count": null,
   "metadata": {},
   "outputs": [],
   "source": []
  },
  {
   "cell_type": "code",
   "execution_count": 61,
   "metadata": {},
   "outputs": [],
   "source": [
    "file_path = \"/Users/sfwu/FBF/working/rrr\""
   ]
  },
  {
   "cell_type": "code",
   "execution_count": 62,
   "metadata": {},
   "outputs": [],
   "source": [
    "htm_file = open(file_path, \"r\")\n",
    "t = os.path.getmtime(file_path)\n",
    "td = datetime.datetime.fromtimestamp(t)\n",
    "td_str = str(td.month).zfill(2) + str(td.day).zfill(2) + '_' + str(td.year).zfill(4)\n",
    "# print (td_str)\n",
    "# print (repr(td))\n",
    "# print (td.year)\n",
    "# print (td.month)\n",
    "# print (td.day)"
   ]
  },
  {
   "cell_type": "code",
   "execution_count": 63,
   "metadata": {},
   "outputs": [
    {
     "name": "stdout",
     "output_type": "stream",
     "text": [
      "84\n"
     ]
    }
   ],
   "source": [
    "lcount = 0\n",
    "getfriendmode = 0\n",
    "friends = 0\n",
    "friends2 = 0\n",
    "friends3 = 0\n",
    "for line in htm_file:\n",
    "#    print (line)\n",
    "    if \"coverPhotoImg photo img\" in line:\n",
    "        rstr_array = line.split('<')\n",
    "        rstr_count = 0\n",
    "        for rstr in rstr_array:\n",
    "            rstr_count = rstr_count + 1\n",
    "            # get the cover photo image file name\n",
    "            if \"coverPhotoImg photo img\" in rstr:\n",
    "                # print (rstr)\n",
    "                coverPhotoFN = rstr[rstr.find(\"_files/\")+len(\"_files/\"):rstr.find(\".jpg\")] + \".jpg\"\n",
    "                # print (coverPhotoFN)\n",
    "                # print (rstr_count)\n",
    "            # get the profile ID\n",
    "            if \"_2nlw _2nlv\" in rstr:\n",
    "                # print (rstr)\n",
    "                profileID = rstr[rstr.find(\"profile.php?id=\")+len(\"profile.php?id=\"):rstr.find(\"\\\">\")]\n",
    "                # print (profileID)\n",
    "                profileName = rstr[rstr.find(\"\\\">\")+len(\"\\\">\"):]\n",
    "                # print (profileName)\n",
    "                ocsv_name = profileID + '_' + td_str + \"_L.csv\"\n",
    "                out_file = open (ocsv_name, \"w\")\n",
    "                \n",
    "                image_file_name = profileID + '_' + td_str + \"_images.csv\"\n",
    "                image_file = open (image_file_name, \"w\")\n",
    "                \n",
    "                s = profileID + '\\t' + profileID + '\\t' + 'c' + '\\t' + td_str + '\\t' + coverPhotoFN\n",
    "                print (s, file = image_file)\n",
    "                \n",
    "                # print (rstr_count)\n",
    "            # get the profile photo image file name\n",
    "            if \"Profile Photo\" in rstr:\n",
    "                # print (rstr)\n",
    "                profilePhotoFN = rstr[rstr.find(\"_files/\")+len(\"_files/\"):rstr.find(\".jpg\")] + \".jpg\"\n",
    "                # print (profilePhotoFN)\n",
    "                s = profileID + '\\t' + profileID + '\\t' + 'p' + '\\t' + td_str + '\\t' + profilePhotoFN\n",
    "                print (s, file = image_file)\n",
    "                # print (rstr_count)\n",
    "            if \"_6ph rfloat\" in rstr:\n",
    "                getfriendmode = getfriendmode + 1\n",
    "                # print (rstr_count)\n",
    "            if getfriendmode == 1 and \"_698\" in rstr:\n",
    "                friends = friends + 1\n",
    "                # print (rstr_count)\n",
    "            if getfriendmode == 1 and \"_5q6s _8o _8t lfloat _ohe\" in rstr:\n",
    "                # print (rstr)\n",
    "                friendID = rstr[rstr.find(\"data-hovercard=\\\"/ajax/hovercard/user.php?id=\")+len(\"data-hovercard=\\\"/ajax/hovercard/user.php?id=\"):rstr.find(\"&amp;extragetparams\")]\n",
    "                # print (friendID)\n",
    "                friends2 = friends2 + 1\n",
    "                # print (rstr_count)\n",
    "            if getfriendmode == 1 and \"_s0 _4ooo _1x2_ _1ve7 _rv img\" in rstr:\n",
    "                # print (rstr)\n",
    "                friendProfilePhotoFN = rstr[rstr.find(\"_files/\")+len(\"_files/\"):rstr.find(\".jpg\")] + \".jpg\"\n",
    "                # print (friendProfilePhotoFN)\n",
    "                friendName = rstr[rstr.find(\"aria-label=\\\"\")+len(\"aria-label=\\\"\"):rstr.find(\"\\\" role=\\\"img\")]\n",
    "                # print (friendName)\n",
    "                friends3 = friends3 + 1\n",
    "                s = profileID + '\\t' + profileName + '\\t' + friendID + '\\t' + friendName\n",
    "                print(s, file = out_file)\n",
    "                s = profileID + '\\t' + friendID + '\\t' + 'f' + '\\t' + td_str + '\\t' + friendProfilePhotoFN\n",
    "                print (s, file = image_file)\n",
    "  \n",
    "                # print (profileID, \"\\t\", profileName, \"\\t\", friendID, \"\\t\", friendName, file = out_file)\n",
    "                # print ('{profileID}\\t{profileName}\\t{friendID}\\t{friendName}', file = out_file)\n",
    "                # print (rstr_count)\n",
    "            if getfriendmode == 1 and \"mbm _5vf sectionHeader _4khu\" in rstr:\n",
    "                getfriendmode = getfriendmode + 1\n",
    "        print (lcount)\n",
    "    lcount = lcount + 1"
   ]
  },
  {
   "cell_type": "code",
   "execution_count": 64,
   "metadata": {},
   "outputs": [
    {
     "name": "stdout",
     "output_type": "stream",
     "text": [
      "LINE Count:  173\n",
      "Friend Count 244\n",
      "Friend Count 244\n",
      "Friend Count 244\n"
     ]
    }
   ],
   "source": [
    "htm_file.close();\n",
    "print(\"LINE Count: \", lcount)\n",
    "print(\"Friend Count\", friends)\n",
    "print(\"Friend Count\", friends2)\n",
    "print(\"Friend Count\", friends3)\n",
    "out_file.close()\n",
    "image_file.close()"
   ]
  },
  {
   "cell_type": "code",
   "execution_count": null,
   "metadata": {},
   "outputs": [],
   "source": []
  },
  {
   "cell_type": "code",
   "execution_count": null,
   "metadata": {},
   "outputs": [],
   "source": []
  }
 ],
 "metadata": {
  "kernelspec": {
   "display_name": "Python 3",
   "language": "python",
   "name": "python3"
  },
  "language_info": {
   "codemirror_mode": {
    "name": "ipython",
    "version": 3
   },
   "file_extension": ".py",
   "mimetype": "text/x-python",
   "name": "python",
   "nbconvert_exporter": "python",
   "pygments_lexer": "ipython3",
   "version": "3.7.4"
  }
 },
 "nbformat": 4,
 "nbformat_minor": 2
}
