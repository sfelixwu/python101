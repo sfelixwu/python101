{
 "cells": [
  {
   "cell_type": "code",
   "execution_count": null,
   "metadata": {},
   "outputs": [],
   "source": []
  },
  {
   "cell_type": "code",
   "execution_count": null,
   "metadata": {},
   "outputs": [],
   "source": []
  },
  {
   "cell_type": "code",
   "execution_count": null,
   "metadata": {},
   "outputs": [],
   "source": []
  },
  {
   "cell_type": "code",
   "execution_count": 81,
   "metadata": {},
   "outputs": [],
   "source": [
    "htm_file = open(\"/Users/sfwu/FBF/working/rrr\", \"r\")"
   ]
  },
  {
   "cell_type": "code",
   "execution_count": 82,
   "metadata": {},
   "outputs": [
    {
     "name": "stdout",
     "output_type": "stream",
     "text": [
      "img class=\"coverPhotoImg photo img\" src=\"./杜杜建_files/82230629_102347477969191_7133177437197697024_o.jpg\" style=\"top:0px;width:100%\" data-fbid=\"102347474635858\" alt=\"Cover Photo, Image may contain: 1 person, closeup\">\n",
      "82230629_102347477969191_7133177437197697024_o.jpg\n",
      "721\n",
      "a class=\"_2nlw _2nlv\" href=\"https://www.facebook.com/profile.php?id=100045818165829\">杜杜建\n",
      "100045818165829\n",
      "730\n",
      "img class=\"_11kf img\" alt=\"杜杜建&#39;s Profile Photo, Image may contain: 1 person, child and closeup\" src=\"./杜杜建_files/82513780_102348394635766_5770005498061389824_o.jpg\">\n",
      "82513780_102348394635766_5770005498061389824_o.jpg\n",
      "744\n",
      "84\n"
     ]
    }
   ],
   "source": [
    "lcount = 0\n",
    "for line in htm_file:\n",
    "#    print (line)\n",
    "    if \"coverPhotoImg photo img\" in line:\n",
    "        rstr_array = line.split('<')\n",
    "        rstr_count = 0\n",
    "        for rstr in rstr_array:\n",
    "            rstr_count = rstr_count + 1\n",
    "            # get the cover photo image file name\n",
    "            if \"coverPhotoImg photo img\" in rstr:\n",
    "                print (rstr)\n",
    "                coverPhotoFN = rstr[rstr.find(\"_files/\")+len(\"_files/\"):rstr.find(\".jpg\")] + \".jpg\"\n",
    "                print (coverPhotoFN)\n",
    "                print (rstr_count)\n",
    "            # get the profile ID\n",
    "            if \"_2nlw _2nlv\" in rstr:\n",
    "                print (rstr)\n",
    "                profileID = rstr[rstr.find(\"profile.php?id=\")+len(\"profile.php?id=\"):rstr.find(\"\\\">\")]\n",
    "                print (profileID)\n",
    "                print (rstr_count)\n",
    "            # get the profile photo image file name\n",
    "            if \"Profile Photo\" in rstr:\n",
    "                print (rstr)\n",
    "                profilePhotoFN = rstr[rstr.find(\"_files/\")+len(\"_files/\"):rstr.find(\".jpg\")] + \".jpg\"\n",
    "                print (profilePhotoFN)\n",
    "                print (rstr_count)\n",
    "        print (lcount)\n",
    "    lcount = lcount + 1"
   ]
  },
  {
   "cell_type": "code",
   "execution_count": 9,
   "metadata": {},
   "outputs": [
    {
     "name": "stdout",
     "output_type": "stream",
     "text": [
      "LINE Count:  173\n"
     ]
    }
   ],
   "source": [
    "htm_file.close();\n",
    "print(\"LINE Count: \", lcount)"
   ]
  },
  {
   "cell_type": "code",
   "execution_count": null,
   "metadata": {},
   "outputs": [],
   "source": []
  }
 ],
 "metadata": {
  "kernelspec": {
   "display_name": "Python 3",
   "language": "python",
   "name": "python3"
  },
  "language_info": {
   "codemirror_mode": {
    "name": "ipython",
    "version": 3
   },
   "file_extension": ".py",
   "mimetype": "text/x-python",
   "name": "python",
   "nbconvert_exporter": "python",
   "pygments_lexer": "ipython3",
   "version": "3.7.4"
  }
 },
 "nbformat": 4,
 "nbformat_minor": 2
}
